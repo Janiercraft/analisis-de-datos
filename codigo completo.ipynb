{
 "cells": [
  {
   "cell_type": "code",
   "execution_count": 1,
   "id": "b46097dd-319f-45c4-9e81-8c0b8cccbeaa",
   "metadata": {},
   "outputs": [],
   "source": [
    "import pandas as pd\n",
    "import seaborn as sns\n",
    "import matplotlib.pyplot as plt\n",
    "import numpy as np\n",
    "from sklearn.feature_selection import SelectKBest, f_classif\n",
    "from sklearn.preprocessing import LabelEncoder\n",
    "from sklearn.model_selection import train_test_split\n",
    "from sklearn.ensemble import RandomForestClassifier\n",
    "from sklearn.metrics import classification_report\n",
    "from sklearn.metrics import accuracy_score, precision_score, recall_score, f1_score, classification_report\n",
    "from sklearn.metrics import confusion_matrix"
   ]
  },
  {
   "cell_type": "code",
   "execution_count": 3,
   "id": "84522118-c0bd-4a0d-a4c3-198de37023c9",
   "metadata": {},
   "outputs": [
    {
     "data": {
      "text/html": [
       "<div>\n",
       "<style scoped>\n",
       "    .dataframe tbody tr th:only-of-type {\n",
       "        vertical-align: middle;\n",
       "    }\n",
       "\n",
       "    .dataframe tbody tr th {\n",
       "        vertical-align: top;\n",
       "    }\n",
       "\n",
       "    .dataframe thead th {\n",
       "        text-align: right;\n",
       "    }\n",
       "</style>\n",
       "<table border=\"1\" class=\"dataframe\">\n",
       "  <thead>\n",
       "    <tr style=\"text-align: right;\">\n",
       "      <th></th>\n",
       "      <th>name</th>\n",
       "      <th>year</th>\n",
       "      <th>selling_price</th>\n",
       "      <th>present_price</th>\n",
       "      <th>km_driven</th>\n",
       "      <th>fuel</th>\n",
       "      <th>seller_type</th>\n",
       "      <th>transmission</th>\n",
       "      <th>owner</th>\n",
       "      <th>mileage</th>\n",
       "      <th>engine</th>\n",
       "      <th>max_power</th>\n",
       "      <th>torque</th>\n",
       "      <th>seats</th>\n",
       "      <th>source</th>\n",
       "    </tr>\n",
       "  </thead>\n",
       "  <tbody>\n",
       "    <tr>\n",
       "      <th>0</th>\n",
       "      <td>ritz</td>\n",
       "      <td>2014</td>\n",
       "      <td>3.35</td>\n",
       "      <td>5.59</td>\n",
       "      <td>27000</td>\n",
       "      <td>Petrol</td>\n",
       "      <td>Dealer</td>\n",
       "      <td>Manual</td>\n",
       "      <td>0</td>\n",
       "      <td>NaN</td>\n",
       "      <td>NaN</td>\n",
       "      <td>NaN</td>\n",
       "      <td>NaN</td>\n",
       "      <td>NaN</td>\n",
       "      <td>car data.csv</td>\n",
       "    </tr>\n",
       "    <tr>\n",
       "      <th>1</th>\n",
       "      <td>sx4</td>\n",
       "      <td>2013</td>\n",
       "      <td>4.75</td>\n",
       "      <td>9.54</td>\n",
       "      <td>43000</td>\n",
       "      <td>Diesel</td>\n",
       "      <td>Dealer</td>\n",
       "      <td>Manual</td>\n",
       "      <td>0</td>\n",
       "      <td>NaN</td>\n",
       "      <td>NaN</td>\n",
       "      <td>NaN</td>\n",
       "      <td>NaN</td>\n",
       "      <td>NaN</td>\n",
       "      <td>car data.csv</td>\n",
       "    </tr>\n",
       "    <tr>\n",
       "      <th>2</th>\n",
       "      <td>ciaz</td>\n",
       "      <td>2017</td>\n",
       "      <td>7.25</td>\n",
       "      <td>9.85</td>\n",
       "      <td>6900</td>\n",
       "      <td>Petrol</td>\n",
       "      <td>Dealer</td>\n",
       "      <td>Manual</td>\n",
       "      <td>0</td>\n",
       "      <td>NaN</td>\n",
       "      <td>NaN</td>\n",
       "      <td>NaN</td>\n",
       "      <td>NaN</td>\n",
       "      <td>NaN</td>\n",
       "      <td>car data.csv</td>\n",
       "    </tr>\n",
       "    <tr>\n",
       "      <th>3</th>\n",
       "      <td>wagon r</td>\n",
       "      <td>2011</td>\n",
       "      <td>2.85</td>\n",
       "      <td>4.15</td>\n",
       "      <td>5200</td>\n",
       "      <td>Petrol</td>\n",
       "      <td>Dealer</td>\n",
       "      <td>Manual</td>\n",
       "      <td>0</td>\n",
       "      <td>NaN</td>\n",
       "      <td>NaN</td>\n",
       "      <td>NaN</td>\n",
       "      <td>NaN</td>\n",
       "      <td>NaN</td>\n",
       "      <td>car data.csv</td>\n",
       "    </tr>\n",
       "    <tr>\n",
       "      <th>4</th>\n",
       "      <td>swift</td>\n",
       "      <td>2014</td>\n",
       "      <td>4.60</td>\n",
       "      <td>6.87</td>\n",
       "      <td>42450</td>\n",
       "      <td>Diesel</td>\n",
       "      <td>Dealer</td>\n",
       "      <td>Manual</td>\n",
       "      <td>0</td>\n",
       "      <td>NaN</td>\n",
       "      <td>NaN</td>\n",
       "      <td>NaN</td>\n",
       "      <td>NaN</td>\n",
       "      <td>NaN</td>\n",
       "      <td>car data.csv</td>\n",
       "    </tr>\n",
       "  </tbody>\n",
       "</table>\n",
       "</div>"
      ],
      "text/plain": [
       "      name  year  selling_price  present_price  km_driven    fuel seller_type  \\\n",
       "0     ritz  2014           3.35           5.59      27000  Petrol      Dealer   \n",
       "1      sx4  2013           4.75           9.54      43000  Diesel      Dealer   \n",
       "2     ciaz  2017           7.25           9.85       6900  Petrol      Dealer   \n",
       "3  wagon r  2011           2.85           4.15       5200  Petrol      Dealer   \n",
       "4    swift  2014           4.60           6.87      42450  Diesel      Dealer   \n",
       "\n",
       "  transmission owner mileage engine max_power torque  seats        source  \n",
       "0       Manual     0     NaN    NaN       NaN    NaN    NaN  car data.csv  \n",
       "1       Manual     0     NaN    NaN       NaN    NaN    NaN  car data.csv  \n",
       "2       Manual     0     NaN    NaN       NaN    NaN    NaN  car data.csv  \n",
       "3       Manual     0     NaN    NaN       NaN    NaN    NaN  car data.csv  \n",
       "4       Manual     0     NaN    NaN       NaN    NaN    NaN  car data.csv  "
      ]
     },
     "execution_count": 3,
     "metadata": {},
     "output_type": "execute_result"
    }
   ],
   "source": [
    "df = pd.read_csv(\"autos.csv\")\n",
    "df.head()"
   ]
  },
  {
   "cell_type": "code",
   "execution_count": 5,
   "id": "8958fbcd-ca64-4427-b2cf-0ebb13992106",
   "metadata": {},
   "outputs": [
    {
     "name": "stdout",
     "output_type": "stream",
     "text": [
      "Valores faltantes por columna:\n",
      "name                 0\n",
      "year                 0\n",
      "selling_price        0\n",
      "present_price    14527\n",
      "km_driven            0\n",
      "fuel                 0\n",
      "seller_type          0\n",
      "transmission         0\n",
      "owner                0\n",
      "mileage           6921\n",
      "engine            4942\n",
      "max_power         4936\n",
      "torque            4943\n",
      "seats             4926\n",
      "source               0\n",
      "dtype: int64\n",
      "\n",
      "Columnas que quedaron en el DataFrame:\n",
      "Index(['name', 'year', 'selling_price', 'km_driven', 'fuel', 'seller_type',\n",
      "       'transmission', 'owner'],\n",
      "      dtype='object')\n",
      "\n",
      "Primeras filas del DataFrame limpio:\n",
      "      name  year  selling_price  km_driven    fuel seller_type transmission  \\\n",
      "0     ritz  2014           3.35      27000  Petrol      Dealer       Manual   \n",
      "1      sx4  2013           4.75      43000  Diesel      Dealer       Manual   \n",
      "2     ciaz  2017           7.25       6900  Petrol      Dealer       Manual   \n",
      "3  wagon r  2011           2.85       5200  Petrol      Dealer       Manual   \n",
      "4    swift  2014           4.60      42450  Diesel      Dealer       Manual   \n",
      "\n",
      "  owner  \n",
      "0     0  \n",
      "1     0  \n",
      "2     0  \n",
      "3     0  \n",
      "4     0  \n",
      "['0' '1' '3' 'First Owner' 'Second Owner' 'Fourth & Above Owner'\n",
      " 'Third Owner' 'Test Drive Car' 'First' 'Second' 'Third' 'Fourth'\n",
      " 'UnRegistered Car' '4 or More']\n"
     ]
    }
   ],
   "source": [
    "print(\"Valores faltantes por columna:\")\n",
    "print(df.isnull().sum())\n",
    "\n",
    "columnas_deseadas = [\"name\", \"year\", \"selling_price\", \"km_driven\", \"fuel\", \"seller_type\", \"transmission\", \"owner\"]\n",
    "df = df[columnas_deseadas]\n",
    "\n",
    "print(\"\\nColumnas que quedaron en el DataFrame:\")\n",
    "print(df.columns)\n",
    "\n",
    "print(\"\\nPrimeras filas del DataFrame limpio:\")\n",
    "print(df.head())\n",
    "\n",
    "print(df[\"owner\"].unique())"
   ]
  },
  {
   "cell_type": "code",
   "execution_count": 7,
   "id": "f45b6ed8-63f1-4c83-b947-d018e621089f",
   "metadata": {},
   "outputs": [],
   "source": [
    "df[\"owner\"] = df[\"owner\"].replace({\n",
    "    '3': '4',\n",
    "    '1': '2',\n",
    "    '0': '1',\n",
    "    'First Owner': '1',\n",
    "    'Second Owner': '2',\n",
    "    'Third Owner': '3',\n",
    "    'First': '1',\n",
    "    'Second': '2',\n",
    "    'Third': '3',\n",
    "    'Fourth': '4',\n",
    "    '4 or More': '5',\n",
    "    'Fourth & Above Owner': '5',\n",
    "    'Test Drive Car': '0',\n",
    "    'UnRegistered Car': '0'\n",
    "})\n",
    "\n",
    "df[\"owner\"] = df[\"owner\"].astype(int)"
   ]
  },
  {
   "cell_type": "code",
   "execution_count": 9,
   "id": "d24ae9cf-be58-404f-8fd6-52982b052d9b",
   "metadata": {},
   "outputs": [],
   "source": [
    "df[\"brand\"] = df[\"name\"].apply(lambda x: x.split()[0])"
   ]
  },
  {
   "cell_type": "code",
   "execution_count": 11,
   "id": "8fb35c63-ccdb-4870-87fb-6f12b5a46491",
   "metadata": {},
   "outputs": [],
   "source": [
    "df.drop(\"name\", axis=1, inplace=True)"
   ]
  },
  {
   "cell_type": "code",
   "execution_count": 13,
   "id": "e402b1b7-2ffd-40cf-b0f5-30b7ce0a1219",
   "metadata": {},
   "outputs": [
    {
     "name": "stdout",
     "output_type": "stream",
     "text": [
      "Clases codificadas: {'CNG': 0, 'CNG + CNG': 1, 'Diesel': 2, 'Electric': 3, 'Hybrid': 4, 'LPG': 5, 'Petrol': 6, 'Petrol + CNG': 7, 'Petrol + LPG': 8}\n"
     ]
    }
   ],
   "source": [
    "le = LabelEncoder()\n",
    "df[\"fuel\"] = le.fit_transform(df[\"fuel\"])\n",
    "print(\"Clases codificadas:\", dict(zip(le.classes_, le.transform(le.classes_))))"
   ]
  },
  {
   "cell_type": "code",
   "execution_count": 15,
   "id": "822292da-7c78-4e04-8f87-87dad3a92096",
   "metadata": {},
   "outputs": [],
   "source": [
    "y = df[\"fuel\"]\n",
    "X = df.drop(\"fuel\", axis=1)"
   ]
  },
  {
   "cell_type": "code",
   "execution_count": 17,
   "id": "7bc89cb9-6f52-412b-8443-e0fc85df4c19",
   "metadata": {},
   "outputs": [
    {
     "name": "stdout",
     "output_type": "stream",
     "text": [
      "Columnas actuales en X:\n",
      "Index(['year', 'selling_price', 'km_driven', 'seller_type', 'transmission',\n",
      "       'owner', 'brand'],\n",
      "      dtype='object')\n"
     ]
    }
   ],
   "source": [
    "print(\"Columnas actuales en X:\")\n",
    "print(X.columns)"
   ]
  },
  {
   "cell_type": "code",
   "execution_count": 19,
   "id": "299a2a91-c380-4870-9fe1-aeb5f7f3c9cb",
   "metadata": {},
   "outputs": [],
   "source": [
    "X = pd.get_dummies(X, columns=[\"brand\", \"seller_type\", \"transmission\"], drop_first=True)"
   ]
  },
  {
   "cell_type": "code",
   "execution_count": 21,
   "id": "06e9a4ff-c2cb-40b5-98c5-b79667735ff7",
   "metadata": {},
   "outputs": [
    {
     "name": "stdout",
     "output_type": "stream",
     "text": [
      "Tamaño de X_train: (11862, 90)\n",
      "Tamaño de X_test: (2966, 90)\n"
     ]
    }
   ],
   "source": [
    "X_train, X_test, y_train, y_test = train_test_split(\n",
    "    X, y,\n",
    "    test_size=0.2,\n",
    "    random_state=42\n",
    ")\n",
    "\n",
    "print(\"Tamaño de X_train:\", X_train.shape)\n",
    "print(\"Tamaño de X_test:\", X_test.shape)"
   ]
  },
  {
   "cell_type": "code",
   "execution_count": 23,
   "id": "335910cb-e313-4b83-9930-c565d1b091d6",
   "metadata": {},
   "outputs": [
    {
     "name": "stdout",
     "output_type": "stream",
     "text": [
      "Accuracy: 0.8567093728927849\n",
      "\n",
      "Reporte de Clasificación:\n",
      "              precision    recall  f1-score   support\n",
      "\n",
      "           0       0.00      0.00      0.00        26\n",
      "           1       0.00      0.00      0.00         1\n",
      "           2       0.85      0.90      0.87      1480\n",
      "           3       0.50      1.00      0.67         1\n",
      "           4       0.00      0.00      0.00         1\n",
      "           5       0.25      0.09      0.13        11\n",
      "           6       0.87      0.84      0.85      1446\n",
      "           8       0.00      0.00      0.00         0\n",
      "\n",
      "    accuracy                           0.86      2966\n",
      "   macro avg       0.31      0.35      0.32      2966\n",
      "weighted avg       0.85      0.86      0.85      2966\n",
      "\n"
     ]
    }
   ],
   "source": [
    "modelo = RandomForestClassifier(\n",
    "    n_estimators=100,   \n",
    "    max_depth=None,     \n",
    "    random_state=42     \n",
    ")\n",
    "modelo.fit(X_train, y_train)\n",
    "y_pred = modelo.predict(X_test)\n",
    "\n",
    "print(\"Accuracy:\", accuracy_score(y_test, y_pred))\n",
    "\n",
    "print(\"\\nReporte de Clasificación:\")\n",
    "print(classification_report(y_test, y_pred, zero_division=0))"
   ]
  },
  {
   "cell_type": "code",
   "execution_count": 25,
   "id": "e567ce0b-5311-4c96-ad7f-a1278252394d",
   "metadata": {},
   "outputs": [
    {
     "data": {
      "image/png": "[encoded data removed]",
      "text/plain": [
       "<Figure size 800x600 with 2 Axes>"
      ]
     },
     "metadata": {},
     "output_type": "display_data"
    }
   ],
   "source": [
    "cm = confusion_matrix(y_test, y_pred)\n",
    "plt.figure(figsize=(8,6))\n",
    "sns.heatmap(cm, annot=True, fmt=\"d\", cmap=\"Blues\", xticklabels=modelo.classes_, yticklabels=modelo.classes_)\n",
    "plt.xlabel(\"Predicción\")\n",
    "plt.ylabel(\"Real\")\n",
    "plt.title(\"Matriz de Confusión\")\n",
    "plt.show()"
   ]
  },
  {
   "cell_type": "code",
   "execution_count": 27,
   "id": "f96360a5-982f-4a44-a45c-b80fbf10800c",
   "metadata": {},
   "outputs": [
    {
     "data": {
      "image/png": "[encoded data removed]",
      "text/plain": [
       "<Figure size 1000x600 with 1 Axes>"
      ]
     },
     "metadata": {},
     "output_type": "display_data"
    }
   ],
   "source": [
    "importancias = modelo.feature_importances_\n",
    "nombres_caracteristicas = X.columns\n",
    "indices_ordenados = np.argsort(importancias)[::-1]\n",
    "plt.figure(figsize=(10, 6))\n",
    "sns.barplot(x=importancias[indices_ordenados[:10]], y=nombres_caracteristicas[indices_ordenados[:10]])\n",
    "plt.title(\"Importancia de las Características\")\n",
    "plt.xlabel(\"Importancia\")\n",
    "plt.ylabel(\"Características\")\n",
    "plt.show()"
   ]
  },
  {
   "cell_type": "code",
   "execution_count": null,
   "id": "644867cb-6509-48a3-897e-5b3b96a7e53e",
   "metadata": {},
   "outputs": [],
   "source": []
  }
 ],
 "metadata": {
  "kernelspec": {
   "display_name": "Python [conda env:base] *",
   "language": "python",
   "name": "conda-base-py"
  },
  "language_info": {
   "codemirror_mode": {
    "name": "ipython",
    "version": 3
   },
   "file_extension": ".py",
   "mimetype": "text/x-python",
   "name": "python",
   "nbconvert_exporter": "python",
   "pygments_lexer": "ipython3",
   "version": "3.12.7"
  }
 },
 "nbformat": 4,
 "nbformat_minor": 5
}
