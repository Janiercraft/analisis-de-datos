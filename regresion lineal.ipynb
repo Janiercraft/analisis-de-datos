{
 "cells": [
  {
   "cell_type": "code",
   "execution_count": 1,
   "id": "b46097dd-319f-45c4-9e81-8c0b8cccbeaa",
   "metadata": {},
   "outputs": [],
   "source": [
    "import pandas as pd\n",
    "import seaborn as sns\n",
    "import matplotlib.pyplot as plt\n",
    "import numpy as np\n",
    "from sklearn.model_selection import train_test_split\n",
    "from sklearn.linear_model import LinearRegression\n",
    "from sklearn.metrics import mean_squared_error, r2_score"
   ]
  },
  {
   "cell_type": "code",
   "execution_count": 2,
   "id": "84522118-c0bd-4a0d-a4c3-198de37023c9",
   "metadata": {},
   "outputs": [
    {
     "name": "stdout",
     "output_type": "stream",
     "text": [
      "Valores faltantes por columna:\n",
      "name                 0\n",
      "year                 0\n",
      "selling_price        0\n",
      "present_price    14527\n",
      "km_driven            0\n",
      "fuel                 0\n",
      "seller_type          0\n",
      "transmission         0\n",
      "owner                0\n",
      "mileage           6921\n",
      "engine            4942\n",
      "max_power         4936\n",
      "torque            4943\n",
      "seats             4926\n",
      "source               0\n",
      "dtype: int64\n"
     ]
    }
   ],
   "source": [
    "df = pd.read_csv(\"autos.csv\")\n",
    "print(\"Valores faltantes por columna:\")\n",
    "print(df.isnull().sum())"
   ]
  },
  {
   "cell_type": "code",
   "execution_count": 5,
   "id": "8958fbcd-ca64-4427-b2cf-0ebb13992106",
   "metadata": {},
   "outputs": [
    {
     "name": "stdout",
     "output_type": "stream",
     "text": [
      "\n",
      "Columnas que quedaron en el DataFrame:\n",
      "Index(['name', 'year', 'selling_price', 'km_driven', 'fuel', 'seller_type',\n",
      "       'transmission', 'owner'],\n",
      "      dtype='object')\n",
      "\n",
      "Primeras filas del DataFrame limpio:\n",
      "      name  year  selling_price  km_driven    fuel seller_type transmission  \\\n",
      "0     ritz  2014           3.35      27000  Petrol      Dealer       Manual   \n",
      "1      sx4  2013           4.75      43000  Diesel      Dealer       Manual   \n",
      "2     ciaz  2017           7.25       6900  Petrol      Dealer       Manual   \n",
      "3  wagon r  2011           2.85       5200  Petrol      Dealer       Manual   \n",
      "4    swift  2014           4.60      42450  Diesel      Dealer       Manual   \n",
      "\n",
      "  owner  \n",
      "0     0  \n",
      "1     0  \n",
      "2     0  \n",
      "3     0  \n",
      "4     0  \n"
     ]
    }
   ],
   "source": [
    "columnas_deseadas = [\"name\", \"year\", \"selling_price\", \"km_driven\", \"fuel\", \"seller_type\", \"transmission\", \"owner\"]\n",
    "df = df[columnas_deseadas]\n",
    "\n",
    "print(\"\\nColumnas que quedaron en el DataFrame:\")\n",
    "print(df.columns)\n",
    "\n",
    "print(\"\\nPrimeras filas del DataFrame limpio:\")\n",
    "print(df.head())"
   ]
  },
  {
   "cell_type": "code",
   "execution_count": 7,
   "id": "f45b6ed8-63f1-4c83-b947-d018e621089f",
   "metadata": {},
   "outputs": [
    {
     "name": "stdout",
     "output_type": "stream",
     "text": [
      "Valores únicos en 'owner': ['0' '1' '3' 'First Owner' 'Second Owner' 'Fourth & Above Owner'\n",
      " 'Third Owner' 'Test Drive Car' 'First' 'Second' 'Third' 'Fourth'\n",
      " 'UnRegistered Car' '4 or More']\n"
     ]
    }
   ],
   "source": [
    "print(\"Valores únicos en 'owner':\", df[\"owner\"].unique())\n",
    "df[\"owner\"] = df[\"owner\"].replace({\n",
    "    '3': '4',\n",
    "    '1': '2',\n",
    "    '0': '1',\n",
    "    'First Owner': '1',\n",
    "    'Second Owner': '2',\n",
    "    'Third Owner': '3',\n",
    "    'First': '1',\n",
    "    'Second': '2',\n",
    "    'Third': '3',\n",
    "    'Fourth': '4',\n",
    "    '4 or More': '5',\n",
    "    'Fourth & Above Owner': '5',\n",
    "    'Test Drive Car': '0',\n",
    "    'UnRegistered Car': '0'\n",
    "})\n",
    "df[\"owner\"] = df[\"owner\"].astype(int)"
   ]
  },
  {
   "cell_type": "code",
   "execution_count": 9,
   "id": "d24ae9cf-be58-404f-8fd6-52982b052d9b",
   "metadata": {},
   "outputs": [],
   "source": [
    "df[\"brand\"] = df[\"name\"].apply(lambda x: x.split()[0])\n",
    "df.drop(\"name\", axis=1, inplace=True)"
   ]
  },
  {
   "cell_type": "code",
   "execution_count": 11,
   "id": "8fb35c63-ccdb-4870-87fb-6f12b5a46491",
   "metadata": {},
   "outputs": [],
   "source": [
    "y = df[\"selling_price\"]\n",
    "X = df.drop([\"selling_price\", \"fuel\"], axis=1)"
   ]
  },
  {
   "cell_type": "code",
   "execution_count": 13,
   "id": "822292da-7c78-4e04-8f87-87dad3a92096",
   "metadata": {},
   "outputs": [
    {
     "name": "stdout",
     "output_type": "stream",
     "text": [
      "Columnas actuales en X:\n",
      "Index(['year', 'km_driven', 'owner', 'brand_Activa', 'brand_Ambassador',\n",
      "       'brand_Ashok', 'brand_Audi', 'brand_BMW', 'brand_Bajaj',\n",
      "       'brand_Chevrolet', 'brand_Daewoo', 'brand_Datsun', 'brand_Ferrari',\n",
      "       'brand_Fiat', 'brand_Force', 'brand_Ford', 'brand_Hero', 'brand_Honda',\n",
      "       'brand_Hyosung', 'brand_Hyundai', 'brand_Isuzu', 'brand_Jaguar',\n",
      "       'brand_Jeep', 'brand_KTM', 'brand_Kia', 'brand_Lamborghini',\n",
      "       'brand_Land', 'brand_Lexus', 'brand_MG', 'brand_MINI', 'brand_Mahindra',\n",
      "       'brand_Maruti', 'brand_Maserati', 'brand_Mercedes-Benz',\n",
      "       'brand_Mitsubishi', 'brand_Nissan', 'brand_Opel', 'brand_OpelCorsa',\n",
      "       'brand_Peugeot', 'brand_Porsche', 'brand_Renault', 'brand_Rolls-Royce',\n",
      "       'brand_Royal', 'brand_Skoda', 'brand_Ssangyong', 'brand_Suzuki',\n",
      "       'brand_TVS', 'brand_Tata', 'brand_Toyota', 'brand_UM',\n",
      "       'brand_Volkswagen', 'brand_Volvo', 'brand_Yamaha', 'brand_alto',\n",
      "       'brand_amaze', 'brand_baleno', 'brand_brio', 'brand_camry',\n",
      "       'brand_ciaz', 'brand_city', 'brand_corolla', 'brand_creta',\n",
      "       'brand_dzire', 'brand_elantra', 'brand_eon', 'brand_ertiga',\n",
      "       'brand_etios', 'brand_fortuner', 'brand_grand', 'brand_i10',\n",
      "       'brand_i20', 'brand_ignis', 'brand_innova', 'brand_jazz', 'brand_land',\n",
      "       'brand_omni', 'brand_ritz', 'brand_s', 'brand_swift', 'brand_sx4',\n",
      "       'brand_verna', 'brand_vitara', 'brand_wagon', 'brand_xcent',\n",
      "       'seller_type_Corporate', 'seller_type_Dealer', 'seller_type_Individual',\n",
      "       'seller_type_Trustmark Dealer', 'transmission_Manual'],\n",
      "      dtype='object')\n"
     ]
    }
   ],
   "source": [
    "X = pd.get_dummies(X, columns=[\"brand\", \"seller_type\", \"transmission\"], drop_first=True)\n",
    "\n",
    "print(\"Columnas actuales en X:\")\n",
    "print(X.columns)"
   ]
  },
  {
   "cell_type": "code",
   "execution_count": 15,
   "id": "7bc89cb9-6f52-412b-8443-e0fc85df4c19",
   "metadata": {},
   "outputs": [
    {
     "name": "stdout",
     "output_type": "stream",
     "text": [
      "Tamaño de X_train: (11862, 89)\n",
      "Tamaño de X_test: (2966, 89)\n"
     ]
    }
   ],
   "source": [
    "X_train, X_test, y_train, y_test = train_test_split(\n",
    "    X, y,\n",
    "    test_size=0.2,\n",
    "    random_state=42\n",
    ")\n",
    "print(\"Tamaño de X_train:\", X_train.shape)\n",
    "print(\"Tamaño de X_test:\", X_test.shape)"
   ]
  },
  {
   "cell_type": "code",
   "execution_count": 17,
   "id": "299a2a91-c380-4870-9fe1-aeb5f7f3c9cb",
   "metadata": {},
   "outputs": [],
   "source": [
    "modelo = LinearRegression()\n",
    "modelo.fit(X_train, y_train)\n",
    "y_pred = modelo.predict(X_test)"
   ]
  },
  {
   "cell_type": "code",
   "execution_count": 19,
   "id": "06e9a4ff-c2cb-40b5-98c5-b79667735ff7",
   "metadata": {},
   "outputs": [
    {
     "name": "stdout",
     "output_type": "stream",
     "text": [
      "Error Cuadrático Medio (MSE): 518054745378.1944\n",
      "Coeficiente de Determinación (R²): 0.6636160820258582\n"
     ]
    }
   ],
   "source": [
    "mse = mean_squared_error(y_test, y_pred)\n",
    "r2 = r2_score(y_test, y_pred)\n",
    "print(\"Error Cuadrático Medio (MSE):\", mse)\n",
    "print(\"Coeficiente de Determinación (R²):\", r2)"
   ]
  },
  {
   "cell_type": "code",
   "execution_count": 21,
   "id": "335910cb-e313-4b83-9930-c565d1b091d6",
   "metadata": {},
   "outputs": [
    {
     "data": {
      "image/png": "[encoded data removed]",
      "text/plain": [
       "<Figure size 800x600 with 1 Axes>"
      ]
     },
     "metadata": {},
     "output_type": "display_data"
    }
   ],
   "source": [
    "plt.figure(figsize=(8, 6))\n",
    "plt.scatter(y_test, y_pred, alpha=0.5)\n",
    "plt.xlabel(\"Valores Reales\")\n",
    "plt.ylabel(\"Predicciones\")\n",
    "plt.title(\"Valores Reales vs Predicciones\")\n",
    "plt.plot([y_test.min(), y_test.max()], [y_test.min(), y_test.max()], 'r--')\n",
    "plt.show()"
   ]
  },
  {
   "cell_type": "code",
   "execution_count": 23,
   "id": "2dd2924a-75ca-4c9f-8bea-0fc892751b89",
   "metadata": {},
   "outputs": [
    {
     "name": "stdout",
     "output_type": "stream",
     "text": [
      "                    Coeficiente\n",
      "brand_Ferrari      3.364612e+07\n",
      "brand_Lamborghini  2.277540e+07\n",
      "brand_Rolls-Royce  1.808248e+07\n",
      "brand_Porsche      7.700723e+06\n",
      "brand_Land         5.001692e+06\n",
      "...                         ...\n",
      "owner             -3.059639e+03\n",
      "km_driven         -5.636691e-01\n",
      "brand_Maserati     5.836206e-03\n",
      "brand_Suzuki      -2.239212e-03\n",
      "brand_UM          -1.213566e-03\n",
      "\n",
      "[89 rows x 1 columns]\n"
     ]
    }
   ],
   "source": [
    "coeficientes = pd.DataFrame(modelo.coef_, index=X.columns, columns=[\"Coeficiente\"])\n",
    "print(coeficientes.sort_values(by=\"Coeficiente\", key=abs, ascending=False))"
   ]
  },
  {
   "cell_type": "code",
   "execution_count": null,
   "id": "644867cb-6509-48a3-897e-5b3b96a7e53e",
   "metadata": {},
   "outputs": [],
   "source": []
  }
 ],
 "metadata": {
  "kernelspec": {
   "display_name": "Python [conda env:base] *",
   "language": "python",
   "name": "conda-base-py"
  },
  "language_info": {
   "codemirror_mode": {
    "name": "ipython",
    "version": 3
   },
   "file_extension": ".py",
   "mimetype": "text/x-python",
   "name": "python",
   "nbconvert_exporter": "python",
   "pygments_lexer": "ipython3",
   "version": "3.12.7"
  }
 },
 "nbformat": 4,
 "nbformat_minor": 5
}
